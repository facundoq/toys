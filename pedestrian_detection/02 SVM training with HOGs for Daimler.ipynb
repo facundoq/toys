{
 "cells": [
  {
   "cell_type": "code",
   "execution_count": 10,
   "metadata": {},
   "outputs": [
    {
     "name": "stdout",
     "output_type": "stream",
     "text": [
      "reading hogs..\n",
      "Done\n",
      "Pedestrian hogs shape: (15660, 3240)\n",
      "Non-pedestrian hogs shape: (26976, 3240)\n"
     ]
    }
   ],
   "source": [
    "%load_ext autoreload\n",
    "%autoreload 2\n",
    "import h5py\n",
    "print(\"reading hogs..\")\n",
    "with h5py.File('/media/data/models/daimler_hogs.h5', 'r') as h5f:\n",
    "    train_pedestrian_hogs=h5f['pedestrians'][:]\n",
    "    train_non_pedestrian_hogs=h5f['non_pedestrians'][:]\n",
    "\n",
    "print(\"Done\")\n",
    "print(\"Pedestrian hogs shape:\",train_pedestrian_hogs.shape)\n",
    "print(\"Non-pedestrian hogs shape:\",train_non_pedestrian_hogs.shape)"
   ]
  },
  {
   "cell_type": "code",
   "execution_count": 11,
   "metadata": {},
   "outputs": [
    {
     "name": "stdout",
     "output_type": "stream",
     "text": [
      "Formatting data for training...\n",
      "Done\n",
      "Train labels array shape (38372,)\n",
      "Train hogs array shape (38372, 3240)\n",
      "Val labels array shape (4264,)\n",
      "Val hogs array shape (4264, 3240)\n"
     ]
    }
   ],
   "source": [
    "from sklearn.model_selection import train_test_split\n",
    "\n",
    "print(\"Formatting data for training...\")\n",
    "n_positive=train_pedestrian_hogs.shape[0]\n",
    "n_negative=train_non_pedestrian_hogs.shape[0]\n",
    "import numpy as np\n",
    "x=np.vstack([train_non_pedestrian_hogs,train_pedestrian_hogs])\n",
    "del train_pedestrian_hogs\n",
    "del train_non_pedestrian_hogs\n",
    "y=np.hstack([np.zeros(n_negative),np.ones(n_positive)])\n",
    "\n",
    "validation_subset_percent=0.10\n",
    "x_train, x_val, y_train, y_val = train_test_split(x, y,stratify=y,test_size=validation_subset_percent)\n",
    "print(\"Done\")\n",
    "\n",
    "\n",
    "print(\"Train labels array shape\",y_train.shape)\n",
    "print(\"Train hogs array shape\",x_train.shape)\n",
    "print(\"Val labels array shape\",y_val.shape)\n",
    "print(\"Val hogs array shape\",x_val.shape)"
   ]
  },
  {
   "cell_type": "code",
   "execution_count": 9,
   "metadata": {},
   "outputs": [
    {
     "name": "stdout",
     "output_type": "stream",
     "text": [
      "Training..\n"
     ]
    },
    {
     "ename": "NameError",
     "evalue": "name 'x_train' is not defined",
     "output_type": "error",
     "traceback": [
      "\u001b[0;31m---------------------------------------------------------------------------\u001b[0m",
      "\u001b[0;31mNameError\u001b[0m                                 Traceback (most recent call last)",
      "\u001b[0;32m<ipython-input-9-5e44bd60b643>\u001b[0m in \u001b[0;36m<module>\u001b[0;34m()\u001b[0m\n\u001b[1;32m      4\u001b[0m \u001b[0mclf\u001b[0m \u001b[0;34m=\u001b[0m \u001b[0msvm\u001b[0m\u001b[0;34m.\u001b[0m\u001b[0mLinearSVC\u001b[0m\u001b[0;34m(\u001b[0m\u001b[0mC\u001b[0m\u001b[0;34m=\u001b[0m\u001b[0;36m200\u001b[0m\u001b[0;34m)\u001b[0m\u001b[0;34m\u001b[0m\u001b[0m\n\u001b[1;32m      5\u001b[0m \u001b[0mprint\u001b[0m\u001b[0;34m(\u001b[0m\u001b[0;34m\"Training..\"\u001b[0m\u001b[0;34m)\u001b[0m\u001b[0;34m\u001b[0m\u001b[0m\n\u001b[0;32m----> 6\u001b[0;31m \u001b[0mclf\u001b[0m\u001b[0;34m.\u001b[0m\u001b[0mfit\u001b[0m\u001b[0;34m(\u001b[0m\u001b[0mx_train\u001b[0m\u001b[0;34m,\u001b[0m \u001b[0my_train\u001b[0m\u001b[0;34m)\u001b[0m\u001b[0;34m\u001b[0m\u001b[0m\n\u001b[0m\u001b[1;32m      7\u001b[0m \u001b[0mprint\u001b[0m\u001b[0;34m(\u001b[0m\u001b[0;34m\"Done\"\u001b[0m\u001b[0;34m)\u001b[0m\u001b[0;34m\u001b[0m\u001b[0m\n\u001b[1;32m      8\u001b[0m \u001b[0;34m\u001b[0m\u001b[0m\n",
      "\u001b[0;31mNameError\u001b[0m: name 'x_train' is not defined"
     ]
    }
   ],
   "source": [
    "from sklearn.metrics import classification_report\n",
    "from sklearn import svm\n",
    "\n",
    "clf = svm.LinearSVC(C=200)\n",
    "print(\"Training..\")\n",
    "clf.fit(x_train, y_train)  \n",
    "print(\"Done\")\n",
    "\n",
    "\n"
   ]
  },
  {
   "cell_type": "code",
   "execution_count": null,
   "metadata": {},
   "outputs": [],
   "source": [
    "model_filepath='hog_svm_daimler_model.pkl'\n",
    "print(\"Saving model to disk...\")\n",
    "from sklearn.externals import joblib\n",
    "joblib.dump(clf, model_filepath)\n",
    "print(\"Saved to %s.\" % model_filepath)"
   ]
  },
  {
   "cell_type": "code",
   "execution_count": null,
   "metadata": {},
   "outputs": [],
   "source": [
    "print(\"Evaluating..\")\n",
    "print(\"Training set:\")\n",
    "predicted_train = clf.predict(x_train)\n",
    "print(classification_report(y_train,predicted_train))\n",
    "\n",
    "print(\"Validation set:\")\n",
    "predicted_val = clf.predict(x_val)\n",
    "print(classification_report(y_val,predicted_val))\n"
   ]
  }
 ],
 "metadata": {
  "kernelspec": {
   "display_name": "Python 3",
   "language": "python",
   "name": "python3"
  },
  "language_info": {
   "codemirror_mode": {
    "name": "ipython",
    "version": 3
   },
   "file_extension": ".py",
   "mimetype": "text/x-python",
   "name": "python",
   "nbconvert_exporter": "python",
   "pygments_lexer": "ipython3",
   "version": "3.6.4"
  }
 },
 "nbformat": 4,
 "nbformat_minor": 2
}
