{
 "cells": [
  {
   "cell_type": "code",
   "execution_count": null,
   "metadata": {},
   "outputs": [],
   "source": [
    "%load_ext autoreload\n",
    "%autoreload 2\n",
    "model_filepath='hog_svm_daimler_model.pkl'\n",
    "print(\"Loading model from %s...\" % model_filepath)\n",
    "from sklearn.externals import joblib\n",
    "model = joblib.load(model_filepath) \n",
    "print(\"Model loaded: \"+str(model))\n"
   ]
  },
  {
   "cell_type": "markdown",
   "metadata": {},
   "source": [
    "## Read the metadata for the test dataset\n"
   ]
  },
  {
   "cell_type": "code",
   "execution_count": null,
   "metadata": {},
   "outputs": [],
   "source": [
    "\n",
    "\n",
    "import daimler\n",
    "import os\n",
    "basepath=\"/media/data/datasets/pedestrian/daimler_mono/DaimlerBenchmark/\"\n",
    "metadata_filepath=os.path.join(basepath,\"GroundTruth/GroundTruth2D.db\")\n",
    "test_images_filepath=os.path.join(basepath,\"Data/TestData\")\n",
    "metadata,object_names=daimler.read_image_metadata(metadata_filepath)\n",
    "\n",
    "# select a subset of the dataset (the full dataset takes hours to predict on)\n",
    "metadata=metadata[2850:2900]\n",
    "\n",
    "print(\"Loaded metadata for %d test images.\" % len(metadata))"
   ]
  },
  {
   "cell_type": "markdown",
   "metadata": {},
   "source": [
    "## Detect pedestrians in test images using a sliding window with the SVM classifier previously trained"
   ]
  },
  {
   "cell_type": "code",
   "execution_count": 69,
   "metadata": {
    "scrolled": true
   },
   "outputs": [
    {
     "name": "stdout",
     "output_type": "stream",
     "text": [
      "  90.000000 ..\n",
      "  96.000000 ..\n",
      "Done.\n"
     ]
    }
   ],
   "source": [
    "import time\n",
    "import skimage.io as io\n",
    "import numpy as np\n",
    "import experiment\n",
    "from multiprocessing import Pool\n",
    "pool = Pool(4) \n",
    "    \n",
    "descriptor_function= lambda image: experiment.my_hog(image)\n",
    "n=len(metadata)\n",
    "predictions={}\n",
    "i=0\n",
    "print(\"Evaluating on test set...\")\n",
    "\n",
    "def classify_window(window):\n",
    "    bbox,descriptor=window\n",
    "    klass=model.predict(descriptor.reshape(1, -1))\n",
    "    return (bbox,klass)\n",
    "def keep_pedestrian_bbs(prediction):\n",
    "    bb,r=prediction\n",
    "    return r==1\n",
    "\n",
    "for image_metadata in metadata:\n",
    "    image_filepath=os.path.join(test_images_filepath,image_metadata.filename)\n",
    "#     t = time.time()\n",
    "    image=io.imread(image_filepath)\n",
    "#     print(\"Read image %d ms\" %  (time.time() - t))\n",
    "    # calculate hog for each window in the image\n",
    "    hog_windows=experiment.calculate_descriptor_windows(image,descriptor_function,window_scales=[(96,48)],window_strides=(12,12))\n",
    "    \n",
    "#     print(\"Hog windows %d ms\" %  (time.time() - t))\n",
    "    # classify windows\n",
    "    image_predictions=  map(classify_window, hog_windows)\n",
    "    # keep only pedestrian bounding boxes\n",
    "    image_predictions = filter(keep_pedestrian_bbs,image_predictions)\n",
    "    image_predictions = list(image_predictions)                                    \n",
    "#     print(\"Predictions %d ms\" %  (time.time() - t))\n",
    "    predictions[image_metadata.filename]=image_predictions\n",
    "    i+=1\n",
    "    if i % (n//20+1) ==0:\n",
    "        print(\"  %f ..\" % (i/n*100))\n",
    "    \n",
    "print(\"Done.\")"
   ]
  },
  {
   "cell_type": "code",
   "execution_count": null,
   "metadata": {},
   "outputs": [],
   "source": [
    "# save the predictions for future analysis\n",
    "import pickle\n",
    "pickle.dump( predictions, open( \"predictions.p\", \"wb\" ) )\n",
    "\n"
   ]
  },
  {
   "cell_type": "markdown",
   "metadata": {},
   "source": [
    "## Visualize results for all or some test images"
   ]
  },
  {
   "cell_type": "code",
   "execution_count": null,
   "metadata": {},
   "outputs": [],
   "source": [
    "import matplotlib.pyplot as plt\n",
    "\n",
    "plt.rcParams['image.cmap'] = 'gray'\n",
    "import matplotlib.patches as patches\n",
    "import daimler\n",
    "\n",
    "for image_index in range(0,n,1):\n",
    "    image_metadata=metadata[image_index]\n",
    "    image_filepath=os.path.join(test_images_filepath,image_metadata.filename)\n",
    "    image= np.expand_dims(io.imread(image_filepath), axis=2)\n",
    "    prediction=predictions[image_metadata.filename]\n",
    "\n",
    "    daimler.display_image_with_bounding_boxes(image[:,:,0],image_metadata)\n",
    "    print(prediction)\n",
    "    for (bb,confidence) in prediction:\n",
    "        p = patches.Rectangle((bb.c,bb.r), bb.w, bb.h, fill=False,color=\"green\")\n",
    "        plt.gca().add_patch(p)\n",
    "\n",
    "    plt.title(image_metadata.filename+\" detected pedestrians in green\")\n",
    "    plt.show()\n",
    "    \n"
   ]
  },
  {
   "cell_type": "code",
   "execution_count": null,
   "metadata": {},
   "outputs": [],
   "source": []
  }
 ],
 "metadata": {
  "kernelspec": {
   "display_name": "Python 3",
   "language": "python",
   "name": "python3"
  },
  "language_info": {
   "codemirror_mode": {
    "name": "ipython",
    "version": 3
   },
   "file_extension": ".py",
   "mimetype": "text/x-python",
   "name": "python",
   "nbconvert_exporter": "python",
   "pygments_lexer": "ipython3",
   "version": "3.6.4"
  }
 },
 "nbformat": 4,
 "nbformat_minor": 2
}
